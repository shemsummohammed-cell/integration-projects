{
 "cells": [
  {
   "cell_type": "code",
   "execution_count": 3,
   "id": "be07f2a0-27f2-4838-a183-f5d2fd6a25a2",
   "metadata": {},
   "outputs": [
    {
     "name": "stdout",
     "output_type": "stream",
     "text": [
      "1.26.4\n"
     ]
    }
   ],
   "source": [
    "import numpy as np\n",
    "print(np.__version__)"
   ]
  },
  {
   "cell_type": "code",
   "execution_count": 5,
   "id": "86a789db-c287-4890-b950-f39e7f4f5903",
   "metadata": {},
   "outputs": [
    {
     "name": "stdout",
     "output_type": "stream",
     "text": [
      "[1 2 3 4 5]\n",
      "<class 'numpy.ndarray'>\n"
     ]
    }
   ],
   "source": [
    "# 1.NumPy is a Python library used for working with arrays.\n",
    "#2.NumPy aims to provide an array object that is up to 50x faster than traditional Python lists.\n",
    "# 3.he array object in NumPy is called ndarray, it provides a lot of supporting functions that make workingwith ndarray very easy.\n",
    "# Arrays: The array object in NumPy is called ndarray\n",
    "    # create a NumPy ndarray object by using the array() function\n",
    "    #nested array: are arrays that have arrays as their elements.\n",
    "    # A, An array that has 0-D arrays is called uni-dimensional or 1-D =  np.array([1, 2, 3, 4, 5])\n",
    "    # B, An array that has 1-D arrays is called 2-D = np.array([[1, 2, 3], [4, 5, 6]])\n",
    "    # C, An array that has 2-D arrays is called 3-D = np.array([[[1, 2, 3], [4, 5, 6]], [7, 8, 9]]])\n",
    "   \n",
    "#4 we can Check how many dimensions the arrays have: using print(a.ndim)\n",
    "#5 When the array is created, you can define the number of dimensions by using the ndmin argument\n",
    "#6 You can access an array element by referring to its index number\n",
    "    #1-D: print([1])\n",
    "    #2-D: print([0,1]) think array like table. 0 =row and 1=column \n",
    "#7 shape is numphy attribute means changing the shape of an array (number of elements in each dimension).\n",
    "    #By reshaping we can add or remove dimensions or change number of elements in each dimension.\n",
    "    #Example Convert the following 1-D array with 12 elements into a 2-D array.\n",
    "#8 Searching: To search an array, use the where() method.  4, 5, 4, 4]) x = np.where(arr == 4)\n",
    "    # Find the indexes where the values are even: x = np.where(arr%2 == 0)\n",
    "#9 Generate a random integer x = random.randint(100)\n",
    "   # Generate Random Float = x = random.rand()\n",
    "# Generate Random Array = x=random.randint(100, size=(5))"
   ]
  },
  {
   "cell_type": "code",
   "execution_count": 7,
   "id": "a5d68f25-0f9f-4292-8492-2d14d110beab",
   "metadata": {},
   "outputs": [
    {
     "name": "stdout",
     "output_type": "stream",
     "text": [
      "42\n"
     ]
    }
   ],
   "source": [
    "import numpy as np\n",
    "arr = np.array(42)\n",
    "print(arr)"
   ]
  },
  {
   "cell_type": "code",
   "execution_count": 9,
   "id": "ae5c8191-0239-410d-8645-69167cc98c7d",
   "metadata": {},
   "outputs": [
    {
     "name": "stdout",
     "output_type": "stream",
     "text": [
      "[1 2 3 4 5]\n"
     ]
    }
   ],
   "source": [
    "arr0 = np.array([1, 2, 3, 4, 5])\n",
    "print(arr0)"
   ]
  },
  {
   "cell_type": "code",
   "execution_count": 37,
   "id": "c0ac893e-c0cf-4ce2-8495-ea3c3b462d04",
   "metadata": {},
   "outputs": [
    {
     "name": "stdout",
     "output_type": "stream",
     "text": [
      "[[1 2 3]\n",
      " [4 5 6]]\n"
     ]
    }
   ],
   "source": [
    "import numpy as np\n",
    "\n",
    "arr2 = np.array([[1, 2, 3], [4, 5, 6]])\n",
    "print(arr2)\n"
   ]
  },
  {
   "cell_type": "code",
   "execution_count": 39,
   "id": "f1039be3-b367-4421-b7db-2bbf7dca565c",
   "metadata": {},
   "outputs": [
    {
     "name": "stdout",
     "output_type": "stream",
     "text": [
      "[[[1 2 3]\n",
      "  [4 5 6]]\n",
      "\n",
      " [[1 2 3]\n",
      "  [4 5 6]]]\n"
     ]
    }
   ],
   "source": [
    "arr3 = np.array([[[1, 2, 3], [4, 5, 6]], [[1, 2, 3], [4, 5, 6]]])\n",
    "print(arr3)"
   ]
  },
  {
   "cell_type": "code",
   "execution_count": 47,
   "id": "d2d692c7-e4af-4871-92ac-dfeb1b0dc58e",
   "metadata": {},
   "outputs": [
    {
     "name": "stdout",
     "output_type": "stream",
     "text": [
      "0\n",
      "1\n"
     ]
    }
   ],
   "source": [
    "# Check how many dimensions the arrays have:\n",
    "a = np.array(42)\n",
    "b = np.array([1, 2, 3, 4, 5])\n",
    "print(a.ndim)\n",
    "print(b.ndim)"
   ]
  },
  {
   "cell_type": "code",
   "execution_count": 66,
   "id": "c9fb4a00-1423-431b-80ca-6380585ee785",
   "metadata": {},
   "outputs": [
    {
     "name": "stdout",
     "output_type": "stream",
     "text": [
      "[[[[[1 2 3]]]]]\n",
      "5\n"
     ]
    }
   ],
   "source": [
    "# When the array is created, you can define the number of dimensions by using the ndmin argument\n",
    "arr = np.array([1,2,3], ndmin=5)\n",
    "print(arr)\n",
    "print(arr.ndim)"
   ]
  },
  {
   "cell_type": "code",
   "execution_count": 74,
   "id": "c9e21f09-6c00-46b1-8453-7a2489a1e854",
   "metadata": {},
   "outputs": [
    {
     "name": "stdout",
     "output_type": "stream",
     "text": [
      "1\n"
     ]
    }
   ],
   "source": [
    "# You can access an array element by referring to its index number\n",
    "arr = ([1, 2, 3, 4, 5])\n",
    "print(arr[0])"
   ]
  },
  {
   "cell_type": "code",
   "execution_count": 76,
   "id": "69ac61a4-02f4-4861-982f-979108f080f8",
   "metadata": {},
   "outputs": [
    {
     "name": "stdout",
     "output_type": "stream",
     "text": [
      "2nd element on 1st row:  2\n"
     ]
    }
   ],
   "source": [
    " #2-D: print([0,1]) think array like table. 0 =row and 1=column \n",
    "\n",
    "arr = np.array([[1,2,3,4,5], [6,7,8,9,10]])\n",
    "print('2nd element on 1st row: ', arr[0, 1])"
   ]
  },
  {
   "cell_type": "code",
   "execution_count": 88,
   "id": "9e1f9847-0865-4109-970b-594384a6d7a4",
   "metadata": {},
   "outputs": [
    {
     "name": "stdout",
     "output_type": "stream",
     "text": [
      "[2 5]\n"
     ]
    }
   ],
   "source": [
    "arr = np.array([1, 2, 3, 4, 5, 6, 7])\n",
    "print(arr[1:5:3])"
   ]
  },
  {
   "cell_type": "code",
   "execution_count": 80,
   "id": "4b6e4ab7-a8c0-489d-a505-935427200039",
   "metadata": {},
   "outputs": [
    {
     "name": "stdout",
     "output_type": "stream",
     "text": [
      "[1 3 5 7]\n"
     ]
    }
   ],
   "source": [
    "print(arr[::2])"
   ]
  },
  {
   "cell_type": "code",
   "execution_count": 96,
   "id": "62a4aa0c-681e-495d-b062-0402bd6ed1f1",
   "metadata": {},
   "outputs": [
    {
     "name": "stdout",
     "output_type": "stream",
     "text": [
      "[[ 1  2  3]\n",
      " [ 4  5  6]\n",
      " [ 7  8  9]\n",
      " [10 11 12]]\n"
     ]
    }
   ],
   "source": [
    "#Example Convert the following 1-D array with 12 elements into a 2-D array.Example\n",
    "#Convert the following 1-D array with 12 elements into a 2-D array.\n",
    "# The outermost dimension will have 4 arrays(row), each with 3 elements(column)\n",
    "    \n",
    "arr = np.array([1, 2, 3, 4, 5, 6, 7, 8, 9, 10, 11, 12])\n",
    "newarr = arr.reshape(4, 3)\n",
    "print(newarr)"
   ]
  },
  {
   "cell_type": "code",
   "execution_count": 102,
   "id": "04fd7f93-8295-4b21-a450-6a48eda0c1dd",
   "metadata": {},
   "outputs": [
    {
     "name": "stdout",
     "output_type": "stream",
     "text": [
      "(array([3, 5, 6]),)\n"
     ]
    }
   ],
   "source": [
    "#To search an array, use the where() method.\n",
    "arr = np.array([1, 2, 3, 4, 5, 4, 4])\n",
    "x = np.where(arr == 4)\n",
    "print(x)"
   ]
  },
  {
   "cell_type": "code",
   "execution_count": 106,
   "id": "8f6ea33a-00dd-4074-b021-30f85fce96de",
   "metadata": {},
   "outputs": [
    {
     "name": "stdout",
     "output_type": "stream",
     "text": [
      "(array([1, 3, 5, 6]),)\n"
     ]
    }
   ],
   "source": [
    "x = np.where(arr%2 == 0)\n",
    "print(x)"
   ]
  },
  {
   "cell_type": "code",
   "execution_count": null,
   "id": "13376c9c-8985-4dc9-adf9-cf66f50f40a1",
   "metadata": {},
   "outputs": [],
   "source": []
  }
 ],
 "metadata": {
  "kernelspec": {
   "display_name": "Python 3 (ipykernel)",
   "language": "python",
   "name": "python3"
  },
  "language_info": {
   "codemirror_mode": {
    "name": "ipython",
    "version": 3
   },
   "file_extension": ".py",
   "mimetype": "text/x-python",
   "name": "python",
   "nbconvert_exporter": "python",
   "pygments_lexer": "ipython3",
   "version": "3.12.7"
  }
 },
 "nbformat": 4,
 "nbformat_minor": 5
}
